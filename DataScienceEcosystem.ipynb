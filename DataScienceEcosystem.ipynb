{
 "cells": [
  {
   "cell_type": "markdown",
   "id": "8c125db6-73bc-4acb-b701-b2d714e8aace",
   "metadata": {},
   "source": [
    "##Author\n",
    "Author: Marc"
   ]
  },
  {
   "cell_type": "markdown",
   "id": "a26a7e7e-6b91-41c8-beba-9e028ecfd404",
   "metadata": {},
   "source": [
    "Data Science Tools and Ecosystem"
   ]
  },
  {
   "cell_type": "markdown",
   "id": "71804355-992e-4b4a-80ed-6f9d493c4fb8",
   "metadata": {},
   "source": [
    "In this notebook, Data Science Tools and Ecosystem are summarized."
   ]
  },
  {
   "cell_type": "markdown",
   "id": "59cb5ad7-dc82-4bdd-88a8-195081da054f",
   "metadata": {},
   "source": [
    "**Objectives:**\n",
    "*List popular languages for Data Science\n",
    "*List libraries for Data Science\n",
    "*Introduction to Jupyter\n",
    "*Introduction to Python\n",
    "*Introduction to mathematical functions in Python\r\n"
   ]
  },
  {
   "cell_type": "markdown",
   "id": "e2789cf7-dd67-42c4-8f7b-0da01f1164cd",
   "metadata": {},
   "source": [
    "Some of the popular languages that Data Scientists use are:\n",
    "1. Python\n",
    "2. R\n",
    "3. Julia"
   ]
  },
  {
   "cell_type": "markdown",
   "id": "3e3d655f-5382-4869-a18a-bc41dd9d0f95",
   "metadata": {},
   "source": [
    "Some of the commonly used libraries used by Data Scientists include:\n",
    "1. NumPy\n",
    "2. Pandas\n",
    "3. TensorFlow"
   ]
  },
  {
   "cell_type": "markdown",
   "id": "82bc691f-d2b5-4155-9a25-8b1ca98dc59c",
   "metadata": {},
   "source": [
    "\r\n",
    "| Data Science Tools--|\r\n",
    "| Jupyter Notebook |\r\n",
    "| RStudio |\r\n",
    "| Visual Studio Code |"
   ]
  },
  {
   "cell_type": "markdown",
   "id": "f3166419-a1a3-46c5-9139-ef6664094a12",
   "metadata": {},
   "source": [
    "###Below are a few examples of evaluating arithmetic expressions in Python\n",
    "\"9 - 1 * 2\"\n",
    "\"2 * 2 * 2\"\n",
    "\"8 + 3 * 7\""
   ]
  },
  {
   "cell_type": "code",
   "execution_count": 1,
   "id": "b929066b-d8a0-44b3-a1a9-76a87188e522",
   "metadata": {},
   "outputs": [
    {
     "name": "stdout",
     "output_type": "stream",
     "text": [
      "17\n"
     ]
    }
   ],
   "source": [
    "#This a simple arithmetic expression to mutiply then add integers\n",
    "expression = (3*4)+5\n",
    "print(expression)"
   ]
  },
  {
   "cell_type": "code",
   "execution_count": 13,
   "id": "d581481c-8b87-4e4b-b119-e89a515f614b",
   "metadata": {},
   "outputs": [
    {
     "name": "stdout",
     "output_type": "stream",
     "text": [
      "3.3333333333333335\n"
     ]
    }
   ],
   "source": [
    "#This will convert 200 minutes to hours by diving by 60\n",
    "minits =200\n",
    "hours = minits/60\n",
    "print(hours)"
   ]
  },
  {
   "cell_type": "markdown",
   "id": "db6e7e1c-609e-4cd9-b2cb-8911b45dda74",
   "metadata": {},
   "source": []
  }
 ],
 "metadata": {
  "kernelspec": {
   "display_name": "Python 3 (ipykernel)",
   "language": "python",
   "name": "python3"
  },
  "language_info": {
   "codemirror_mode": {
    "name": "ipython",
    "version": 3
   },
   "file_extension": ".py",
   "mimetype": "text/x-python",
   "name": "python",
   "nbconvert_exporter": "python",
   "pygments_lexer": "ipython3",
   "version": "3.11.9"
  }
 },
 "nbformat": 4,
 "nbformat_minor": 5
}
